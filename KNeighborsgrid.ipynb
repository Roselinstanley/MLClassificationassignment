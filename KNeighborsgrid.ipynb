{
 "cells": [
  {
   "cell_type": "code",
   "execution_count": 1,
   "id": "0b51ca82-4667-43de-8500-7a20cd0ef8c9",
   "metadata": {},
   "outputs": [],
   "source": [
    "import pandas as pd"
   ]
  },
  {
   "cell_type": "code",
   "execution_count": 2,
   "id": "0ff3d856-0b72-43a2-8718-f67811becaf1",
   "metadata": {},
   "outputs": [
    {
     "data": {
      "text/plain": [
       "Index(['User ID', 'Age', 'EstimatedSalary', 'Purchased', 'Gender_Male'], dtype='object')"
      ]
     },
     "execution_count": 2,
     "metadata": {},
     "output_type": "execute_result"
    }
   ],
   "source": [
    "dataset=pd.read_csv(\"Social_Network_Ads.csv\")\n",
    "dataset=pd.get_dummies(dataset,drop_first=True,dtype='int')\n",
    "dataset.columns\n"
   ]
  },
  {
   "cell_type": "code",
   "execution_count": 3,
   "id": "5cc4869a-8c58-4420-a616-a76e35fc7834",
   "metadata": {},
   "outputs": [
    {
     "data": {
      "text/plain": [
       "Purchased\n",
       "0    257\n",
       "1    143\n",
       "Name: count, dtype: int64"
      ]
     },
     "execution_count": 3,
     "metadata": {},
     "output_type": "execute_result"
    }
   ],
   "source": [
    "dataset['Purchased'].value_counts()"
   ]
  },
  {
   "cell_type": "code",
   "execution_count": 4,
   "id": "8b958535-e48a-436f-bb6d-48c255a47a38",
   "metadata": {},
   "outputs": [],
   "source": [
    "Dataset=dataset.drop(\"User ID\",axis=1)"
   ]
  },
  {
   "cell_type": "code",
   "execution_count": 5,
   "id": "4f9e8d40-6fe1-49c9-9e8f-3700351134b7",
   "metadata": {},
   "outputs": [],
   "source": [
    "inde=dataset[['Age', 'EstimatedSalary', 'Gender_Male']]\n",
    "dep=dataset['Purchased']"
   ]
  },
  {
   "cell_type": "code",
   "execution_count": 6,
   "id": "14134c50-4ece-4693-af11-299fb358a58a",
   "metadata": {},
   "outputs": [],
   "source": [
    "from sklearn.model_selection import train_test_split\n",
    "x_train,x_test,y_train,y_test=train_test_split(inde,dep,test_size=0.3,random_state=0)"
   ]
  },
  {
   "cell_type": "code",
   "execution_count": 7,
   "id": "d18d03db-e652-499a-b778-69f8d0cf0cb4",
   "metadata": {},
   "outputs": [
    {
     "name": "stdout",
     "output_type": "stream",
     "text": [
      "Fitting 5 folds for each of 24 candidates, totalling 120 fits\n"
     ]
    },
    {
     "name": "stderr",
     "output_type": "stream",
     "text": [
      "C:\\Users\\Admin\\anaconda3\\Lib\\site-packages\\sklearn\\model_selection\\_validation.py:547: FitFailedWarning: \n",
      "60 fits failed out of a total of 120.\n",
      "The score on these train-test partitions for these parameters will be set to nan.\n",
      "If these failures are not expected, you can try to debug them by setting error_score='raise'.\n",
      "\n",
      "Below are more details about the failures:\n",
      "--------------------------------------------------------------------------------\n",
      "7 fits failed with the following error:\n",
      "Traceback (most recent call last):\n",
      "  File \"C:\\Users\\Admin\\anaconda3\\Lib\\site-packages\\sklearn\\model_selection\\_validation.py\", line 895, in _fit_and_score\n",
      "    estimator.fit(X_train, y_train, **fit_params)\n",
      "  File \"C:\\Users\\Admin\\anaconda3\\Lib\\site-packages\\sklearn\\base.py\", line 1467, in wrapper\n",
      "    estimator._validate_params()\n",
      "  File \"C:\\Users\\Admin\\anaconda3\\Lib\\site-packages\\sklearn\\base.py\", line 666, in _validate_params\n",
      "    validate_parameter_constraints(\n",
      "  File \"C:\\Users\\Admin\\anaconda3\\Lib\\site-packages\\sklearn\\utils\\_param_validation.py\", line 95, in validate_parameter_constraints\n",
      "    raise InvalidParameterError(\n",
      "sklearn.utils._param_validation.InvalidParameterError: The 'metric' parameter of KNeighborsClassifier must be a str among {'euclidean', 'sqeuclidean', 'manhattan', 'mahalanobis', 'l1', 'pyfunc', 'precomputed', 'braycurtis', 'haversine', 'rogerstanimoto', 'sokalmichener', 'minkowski', 'nan_euclidean', 'yule', 'russellrao', 'l2', 'chebyshev', 'correlation', 'seuclidean', 'infinity', 'canberra', 'jaccard', 'p', 'sokalsneath', 'cosine', 'cityblock', 'dice', 'hamming'}, a callable or an instance of 'sklearn.metrics._dist_metrics.DistanceMetric'. Got 'Euclidean' instead.\n",
      "\n",
      "--------------------------------------------------------------------------------\n",
      "7 fits failed with the following error:\n",
      "Traceback (most recent call last):\n",
      "  File \"C:\\Users\\Admin\\anaconda3\\Lib\\site-packages\\sklearn\\model_selection\\_validation.py\", line 895, in _fit_and_score\n",
      "    estimator.fit(X_train, y_train, **fit_params)\n",
      "  File \"C:\\Users\\Admin\\anaconda3\\Lib\\site-packages\\sklearn\\base.py\", line 1467, in wrapper\n",
      "    estimator._validate_params()\n",
      "  File \"C:\\Users\\Admin\\anaconda3\\Lib\\site-packages\\sklearn\\base.py\", line 666, in _validate_params\n",
      "    validate_parameter_constraints(\n",
      "  File \"C:\\Users\\Admin\\anaconda3\\Lib\\site-packages\\sklearn\\utils\\_param_validation.py\", line 95, in validate_parameter_constraints\n",
      "    raise InvalidParameterError(\n",
      "sklearn.utils._param_validation.InvalidParameterError: The 'metric' parameter of KNeighborsClassifier must be a str among {'euclidean', 'nan_euclidean', 'l2', 'manhattan', 'hamming', 'sqeuclidean', 'seuclidean', 'cosine', 'chebyshev', 'jaccard', 'l1', 'canberra', 'rogerstanimoto', 'braycurtis', 'russellrao', 'sokalsneath', 'dice', 'p', 'precomputed', 'cityblock', 'haversine', 'sokalmichener', 'pyfunc', 'yule', 'minkowski', 'mahalanobis', 'infinity', 'correlation'}, a callable or an instance of 'sklearn.metrics._dist_metrics.DistanceMetric'. Got 'Euclidean' instead.\n",
      "\n",
      "--------------------------------------------------------------------------------\n",
      "5 fits failed with the following error:\n",
      "Traceback (most recent call last):\n",
      "  File \"C:\\Users\\Admin\\anaconda3\\Lib\\site-packages\\sklearn\\model_selection\\_validation.py\", line 895, in _fit_and_score\n",
      "    estimator.fit(X_train, y_train, **fit_params)\n",
      "  File \"C:\\Users\\Admin\\anaconda3\\Lib\\site-packages\\sklearn\\base.py\", line 1467, in wrapper\n",
      "    estimator._validate_params()\n",
      "  File \"C:\\Users\\Admin\\anaconda3\\Lib\\site-packages\\sklearn\\base.py\", line 666, in _validate_params\n",
      "    validate_parameter_constraints(\n",
      "  File \"C:\\Users\\Admin\\anaconda3\\Lib\\site-packages\\sklearn\\utils\\_param_validation.py\", line 95, in validate_parameter_constraints\n",
      "    raise InvalidParameterError(\n",
      "sklearn.utils._param_validation.InvalidParameterError: The 'metric' parameter of KNeighborsClassifier must be a str among {'yule', 'pyfunc', 'nan_euclidean', 'hamming', 'rogerstanimoto', 'braycurtis', 'p', 'euclidean', 'russellrao', 'correlation', 'haversine', 'infinity', 'minkowski', 'manhattan', 'l2', 'sokalmichener', 'cosine', 'sqeuclidean', 'l1', 'cityblock', 'sokalsneath', 'canberra', 'precomputed', 'chebyshev', 'seuclidean', 'jaccard', 'dice', 'mahalanobis'}, a callable or an instance of 'sklearn.metrics._dist_metrics.DistanceMetric'. Got 'Euclidean' instead.\n",
      "\n",
      "--------------------------------------------------------------------------------\n",
      "13 fits failed with the following error:\n",
      "Traceback (most recent call last):\n",
      "  File \"C:\\Users\\Admin\\anaconda3\\Lib\\site-packages\\sklearn\\model_selection\\_validation.py\", line 895, in _fit_and_score\n",
      "    estimator.fit(X_train, y_train, **fit_params)\n",
      "  File \"C:\\Users\\Admin\\anaconda3\\Lib\\site-packages\\sklearn\\base.py\", line 1467, in wrapper\n",
      "    estimator._validate_params()\n",
      "  File \"C:\\Users\\Admin\\anaconda3\\Lib\\site-packages\\sklearn\\base.py\", line 666, in _validate_params\n",
      "    validate_parameter_constraints(\n",
      "  File \"C:\\Users\\Admin\\anaconda3\\Lib\\site-packages\\sklearn\\utils\\_param_validation.py\", line 95, in validate_parameter_constraints\n",
      "    raise InvalidParameterError(\n",
      "sklearn.utils._param_validation.InvalidParameterError: The 'metric' parameter of KNeighborsClassifier must be a str among {'p', 'cityblock', 'l2', 'jaccard', 'braycurtis', 'chebyshev', 'euclidean', 'canberra', 'rogerstanimoto', 'haversine', 'precomputed', 'nan_euclidean', 'dice', 'minkowski', 'l1', 'infinity', 'yule', 'sokalsneath', 'pyfunc', 'seuclidean', 'sqeuclidean', 'cosine', 'manhattan', 'correlation', 'sokalmichener', 'hamming', 'mahalanobis', 'russellrao'}, a callable or an instance of 'sklearn.metrics._dist_metrics.DistanceMetric'. Got 'Euclidean' instead.\n",
      "\n",
      "--------------------------------------------------------------------------------\n",
      "12 fits failed with the following error:\n",
      "Traceback (most recent call last):\n",
      "  File \"C:\\Users\\Admin\\anaconda3\\Lib\\site-packages\\sklearn\\model_selection\\_validation.py\", line 895, in _fit_and_score\n",
      "    estimator.fit(X_train, y_train, **fit_params)\n",
      "  File \"C:\\Users\\Admin\\anaconda3\\Lib\\site-packages\\sklearn\\base.py\", line 1467, in wrapper\n",
      "    estimator._validate_params()\n",
      "  File \"C:\\Users\\Admin\\anaconda3\\Lib\\site-packages\\sklearn\\base.py\", line 666, in _validate_params\n",
      "    validate_parameter_constraints(\n",
      "  File \"C:\\Users\\Admin\\anaconda3\\Lib\\site-packages\\sklearn\\utils\\_param_validation.py\", line 95, in validate_parameter_constraints\n",
      "    raise InvalidParameterError(\n",
      "sklearn.utils._param_validation.InvalidParameterError: The 'metric' parameter of KNeighborsClassifier must be a str among {'canberra', 'minkowski', 'yule', 'mahalanobis', 'pyfunc', 'hamming', 'seuclidean', 'russellrao', 'p', 'correlation', 'cosine', 'sokalmichener', 'precomputed', 'l1', 'braycurtis', 'dice', 'chebyshev', 'sokalsneath', 'euclidean', 'l2', 'nan_euclidean', 'manhattan', 'rogerstanimoto', 'sqeuclidean', 'cityblock', 'infinity', 'jaccard', 'haversine'}, a callable or an instance of 'sklearn.metrics._dist_metrics.DistanceMetric'. Got 'Euclidean' instead.\n",
      "\n",
      "--------------------------------------------------------------------------------\n",
      "13 fits failed with the following error:\n",
      "Traceback (most recent call last):\n",
      "  File \"C:\\Users\\Admin\\anaconda3\\Lib\\site-packages\\sklearn\\model_selection\\_validation.py\", line 895, in _fit_and_score\n",
      "    estimator.fit(X_train, y_train, **fit_params)\n",
      "  File \"C:\\Users\\Admin\\anaconda3\\Lib\\site-packages\\sklearn\\base.py\", line 1467, in wrapper\n",
      "    estimator._validate_params()\n",
      "  File \"C:\\Users\\Admin\\anaconda3\\Lib\\site-packages\\sklearn\\base.py\", line 666, in _validate_params\n",
      "    validate_parameter_constraints(\n",
      "  File \"C:\\Users\\Admin\\anaconda3\\Lib\\site-packages\\sklearn\\utils\\_param_validation.py\", line 95, in validate_parameter_constraints\n",
      "    raise InvalidParameterError(\n",
      "sklearn.utils._param_validation.InvalidParameterError: The 'metric' parameter of KNeighborsClassifier must be a str among {'minkowski', 'mahalanobis', 'nan_euclidean', 'pyfunc', 'seuclidean', 'braycurtis', 'precomputed', 'chebyshev', 'sokalmichener', 'russellrao', 'sokalsneath', 'haversine', 'correlation', 'cosine', 'p', 'l1', 'manhattan', 'l2', 'yule', 'canberra', 'dice', 'sqeuclidean', 'euclidean', 'jaccard', 'rogerstanimoto', 'hamming', 'cityblock', 'infinity'}, a callable or an instance of 'sklearn.metrics._dist_metrics.DistanceMetric'. Got 'Euclidean' instead.\n",
      "\n",
      "--------------------------------------------------------------------------------\n",
      "2 fits failed with the following error:\n",
      "Traceback (most recent call last):\n",
      "  File \"C:\\Users\\Admin\\anaconda3\\Lib\\site-packages\\sklearn\\model_selection\\_validation.py\", line 895, in _fit_and_score\n",
      "    estimator.fit(X_train, y_train, **fit_params)\n",
      "  File \"C:\\Users\\Admin\\anaconda3\\Lib\\site-packages\\sklearn\\base.py\", line 1467, in wrapper\n",
      "    estimator._validate_params()\n",
      "  File \"C:\\Users\\Admin\\anaconda3\\Lib\\site-packages\\sklearn\\base.py\", line 666, in _validate_params\n",
      "    validate_parameter_constraints(\n",
      "  File \"C:\\Users\\Admin\\anaconda3\\Lib\\site-packages\\sklearn\\utils\\_param_validation.py\", line 95, in validate_parameter_constraints\n",
      "    raise InvalidParameterError(\n",
      "sklearn.utils._param_validation.InvalidParameterError: The 'metric' parameter of KNeighborsClassifier must be a str among {'cityblock', 'correlation', 'mahalanobis', 'minkowski', 'seuclidean', 'sokalsneath', 'cosine', 'canberra', 'euclidean', 'manhattan', 'precomputed', 'pyfunc', 'haversine', 'sqeuclidean', 'l2', 'hamming', 'p', 'rogerstanimoto', 'chebyshev', 'jaccard', 'l1', 'dice', 'nan_euclidean', 'russellrao', 'yule', 'infinity', 'braycurtis', 'sokalmichener'}, a callable or an instance of 'sklearn.metrics._dist_metrics.DistanceMetric'. Got 'Euclidean' instead.\n",
      "\n",
      "--------------------------------------------------------------------------------\n",
      "1 fits failed with the following error:\n",
      "Traceback (most recent call last):\n",
      "  File \"C:\\Users\\Admin\\anaconda3\\Lib\\site-packages\\sklearn\\model_selection\\_validation.py\", line 895, in _fit_and_score\n",
      "    estimator.fit(X_train, y_train, **fit_params)\n",
      "  File \"C:\\Users\\Admin\\anaconda3\\Lib\\site-packages\\sklearn\\base.py\", line 1467, in wrapper\n",
      "    estimator._validate_params()\n",
      "  File \"C:\\Users\\Admin\\anaconda3\\Lib\\site-packages\\sklearn\\base.py\", line 666, in _validate_params\n",
      "    validate_parameter_constraints(\n",
      "  File \"C:\\Users\\Admin\\anaconda3\\Lib\\site-packages\\sklearn\\utils\\_param_validation.py\", line 95, in validate_parameter_constraints\n",
      "    raise InvalidParameterError(\n",
      "sklearn.utils._param_validation.InvalidParameterError: The 'metric' parameter of KNeighborsClassifier must be a str among {'pyfunc', 'l2', 'canberra', 'precomputed', 'haversine', 'nan_euclidean', 'l1', 'p', 'euclidean', 'infinity', 'chebyshev', 'cityblock', 'russellrao', 'sokalmichener', 'correlation', 'seuclidean', 'yule', 'jaccard', 'sokalsneath', 'dice', 'mahalanobis', 'rogerstanimoto', 'sqeuclidean', 'manhattan', 'braycurtis', 'hamming', 'minkowski', 'cosine'}, a callable or an instance of 'sklearn.metrics._dist_metrics.DistanceMetric'. Got 'Euclidean' instead.\n",
      "\n",
      "  warnings.warn(some_fits_failed_message, FitFailedWarning)\n",
      "C:\\Users\\Admin\\anaconda3\\Lib\\site-packages\\sklearn\\model_selection\\_search.py:1051: UserWarning: One or more of the test scores are non-finite: [       nan        nan        nan 0.75983335 0.73004619 0.7683438\n",
      "        nan        nan        nan 0.75983335 0.73004619 0.7683438\n",
      "        nan        nan        nan 0.75983335 0.73004619 0.7683438\n",
      "        nan        nan        nan 0.75650116 0.73004619 0.7683438 ]\n",
      "  warnings.warn(\n"
     ]
    }
   ],
   "source": [
    "from sklearn.model_selection import GridSearchCV\n",
    "from sklearn.neighbors import KNeighborsClassifier\n",
    "para_grid = {'n_neighbors':[1,2,5],\n",
    "'algorithm':['auto', 'ball_tree', 'kd_tree', 'brute'],'metric':['Euclidean','minkowski']}\n",
    "grid=GridSearchCV(KNeighborsClassifier(),para_grid,refit=True,verbose=3,n_jobs=-1,scoring='f1_weighted')\n",
    "grid.fit(x_train,y_train)\n",
    "pred=grid.predict(x_test)"
   ]
  },
  {
   "cell_type": "code",
   "execution_count": 8,
   "id": "d4cac438-c6f5-47e9-8302-719473d785cc",
   "metadata": {},
   "outputs": [
    {
     "name": "stdout",
     "output_type": "stream",
     "text": [
      "[[69 10]\n",
      " [11 30]]\n"
     ]
    }
   ],
   "source": [
    "from sklearn.metrics import confusion_matrix\n",
    "cm=confusion_matrix(y_test,pred)\n",
    "print(cm)"
   ]
  },
  {
   "cell_type": "code",
   "execution_count": 9,
   "id": "f6a34f4c-0d49-480c-b5bb-b95da509d56b",
   "metadata": {},
   "outputs": [
    {
     "name": "stdout",
     "output_type": "stream",
     "text": [
      "              precision    recall  f1-score   support\n",
      "\n",
      "           0       0.86      0.87      0.87        79\n",
      "           1       0.75      0.73      0.74        41\n",
      "\n",
      "    accuracy                           0.82       120\n",
      "   macro avg       0.81      0.80      0.80       120\n",
      "weighted avg       0.82      0.82      0.82       120\n",
      "\n"
     ]
    }
   ],
   "source": [
    "from sklearn.metrics import classification_report\n",
    "clrep=classification_report(y_test,pred)\n",
    "print(clrep)"
   ]
  },
  {
   "cell_type": "code",
   "execution_count": 10,
   "id": "5f1c86aa-8e41-48f1-aee9-cfc1609aeeb1",
   "metadata": {},
   "outputs": [
    {
     "data": {
      "text/plain": [
       "0.8585983328187712"
      ]
     },
     "execution_count": 10,
     "metadata": {},
     "output_type": "execute_result"
    }
   ],
   "source": [
    "from sklearn.metrics import roc_auc_score\n",
    "roc_auc_score(y_test,grid.predict_proba(x_test)[:,1])"
   ]
  },
  {
   "cell_type": "code",
   "execution_count": null,
   "id": "d255cfcf-f26d-4bfd-ab90-572cf3273511",
   "metadata": {},
   "outputs": [],
   "source": []
  }
 ],
 "metadata": {
  "kernelspec": {
   "display_name": "Python 3 (ipykernel)",
   "language": "python",
   "name": "python3"
  },
  "language_info": {
   "codemirror_mode": {
    "name": "ipython",
    "version": 3
   },
   "file_extension": ".py",
   "mimetype": "text/x-python",
   "name": "python",
   "nbconvert_exporter": "python",
   "pygments_lexer": "ipython3",
   "version": "3.12.4"
  }
 },
 "nbformat": 4,
 "nbformat_minor": 5
}
