{
 "cells": [
  {
   "cell_type": "code",
   "execution_count": 1,
   "id": "cbf856f1-1f9b-40ab-9cba-388e6b8e8a2e",
   "metadata": {},
   "outputs": [
    {
     "name": "stdin",
     "output_type": "stream",
     "text": [
      "Enter Age 21\n",
      "Enter Estimated Salary 17000\n",
      "Enter Gender_Male 0\n"
     ]
    },
    {
     "name": "stdout",
     "output_type": "stream",
     "text": [
      "Purchased or Not[0-No,1-Yes] Predicted={} [1]\n"
     ]
    }
   ],
   "source": [
    "import pickle\n",
    "l_model=pickle.load(open('final.sav',\"rb\"))\n",
    "age=int(input(\"Enter Age\"))\n",
    "ES=int(input(\"Enter Estimated Salary\"))\n",
    "Sex=input(\"Enter Gender_Male\")\n",
    "pred=l_model.predict([[age,ES,Sex]])\n",
    "print(\"Purchased or Not[0-No,1-Yes] Predicted={}\",pred)"
   ]
  },
  {
   "cell_type": "code",
   "execution_count": null,
   "id": "b8c9acd4-70e2-4dc0-aa3a-694ddf1e9c37",
   "metadata": {},
   "outputs": [],
   "source": []
  }
 ],
 "metadata": {
  "kernelspec": {
   "display_name": "Python 3 (ipykernel)",
   "language": "python",
   "name": "python3"
  },
  "language_info": {
   "codemirror_mode": {
    "name": "ipython",
    "version": 3
   },
   "file_extension": ".py",
   "mimetype": "text/x-python",
   "name": "python",
   "nbconvert_exporter": "python",
   "pygments_lexer": "ipython3",
   "version": "3.12.4"
  }
 },
 "nbformat": 4,
 "nbformat_minor": 5
}
